{
 "cells": [
  {
   "cell_type": "markdown",
   "metadata": {},
   "source": [
    "# Exploratory data analysis"
   ]
  },
  {
   "cell_type": "code",
   "execution_count": null,
   "metadata": {},
   "outputs": [],
   "source": [
    "# Load the data\n",
    "import pandas as pd \n",
    "df = pd.read_excel(r'C:\\Users\\Tom\\Documents\\data.Xlsx')\n",
    "df\n"
   ]
  },
  {
   "cell_type": "code",
   "execution_count": null,
   "metadata": {},
   "outputs": [],
   "source": [
    "df.shape"
   ]
  },
  {
   "cell_type": "code",
   "execution_count": null,
   "metadata": {},
   "outputs": [],
   "source": [
    "df.info()"
   ]
  },
  {
   "cell_type": "code",
   "execution_count": null,
   "metadata": {},
   "outputs": [],
   "source": [
    "df.columns "
   ]
  },
  {
   "cell_type": "code",
   "execution_count": null,
   "metadata": {},
   "outputs": [],
   "source": [
    "df.select_dtypes(include=['int'])"
   ]
  },
  {
   "cell_type": "code",
   "execution_count": null,
   "metadata": {},
   "outputs": [],
   "source": [
    "df = df.replace(-1,pd.NA)\n",
    "df = df.dropna(axis=1, thresh=int(0.7 * len(df)))\n"
   ]
  },
  {
   "cell_type": "code",
   "execution_count": null,
   "metadata": {},
   "outputs": [],
   "source": [
    "df.head(20)"
   ]
  },
  {
   "cell_type": "code",
   "execution_count": null,
   "metadata": {},
   "outputs": [],
   "source": [
    "import pandas as pd\n",
    "\n",
    "df['DOJ'] = pd.to_datetime(df['DOJ'])\n",
    "df['DOL'] = df['DOL'].replace('present', pd.to_datetime('today')) \n",
    "df['DOL'] = pd.to_datetime(df['DOL'])"
   ]
  },
  {
   "cell_type": "code",
   "execution_count": null,
   "metadata": {},
   "outputs": [],
   "source": [
    "df"
   ]
  },
  {
   "cell_type": "code",
   "execution_count": null,
   "metadata": {},
   "outputs": [],
   "source": [
    "df.drop_duplicates()"
   ]
  },
  {
   "cell_type": "markdown",
   "metadata": {},
   "source": [
    "# find outliers of each numerical column"
   ]
  },
  {
   "cell_type": "code",
   "execution_count": null,
   "metadata": {},
   "outputs": [],
   "source": [
    "import pandas as pd\n",
    "import numpy as np\n",
    "\n",
    "# Here df should be the DataFrame\n",
    "\n",
    "num_cols = df.select_dtypes(include=[np.number]).columns\n",
    "\n",
    "for col in num_cols:\n",
    "    Q1 = df[col].quantile(0.25)\n",
    "    Q3 = df[col].quantile(0.75)\n",
    "    IQR = Q3 - Q1\n",
    "    lower_bound = Q1 - 1.5*IQR\n",
    "    upper_bound = Q3 + 1.5*IQR\n",
    "    outliers = df[(df[col] < lower_bound) | (df[col] > upper_bound)]\n",
    "    if not outliers.empty:\n",
    "        print(f'Outliers in column {col}:\\n{outliers}\\n')"
   ]
  },
  {
   "cell_type": "markdown",
   "metadata": {},
   "source": [
    "## plot of outliers"
   ]
  },
  {
   "cell_type": "code",
   "execution_count": null,
   "metadata": {},
   "outputs": [],
   "source": [
    "df"
   ]
  },
  {
   "cell_type": "code",
   "execution_count": null,
   "metadata": {},
   "outputs": [],
   "source": [
    "import pandas as pd\n",
    "import seaborn as sns\n",
    "import matplotlib.pyplot as plt\n",
    "\n",
    "num_cols = df.select_dtypes(include=[np.number]).columns\n",
    "df_melt = pd.melt(df[num_cols])\n",
    "\n",
    "plt.figure(figsize=(8, 6))\n",
    "sns.boxenplot(x=\"variable\", y=\"value\", data=df_melt)\n",
    "plt.title('Boxplot of Numerical Columns')\n",
    "plt.xlabel('Column Name')\n",
    "plt.ylabel('Value')\n",
    "plt.xticks(rotation=90)\n",
    "plt.tight_layout()\n",
    "plt.show()"
   ]
  },
  {
   "cell_type": "code",
   "execution_count": null,
   "metadata": {},
   "outputs": [],
   "source": [
    "import seaborn as sns\n",
    "import matplotlib.pyplot as plt\n",
    "import pandas as pd\n",
    "\n",
    "num_cols = df.select_dtypes(include=[np.number]).columns\n",
    "\n",
    "fig, axs = plt.subplots(nrows=len(num_cols), figsize=(5, 5*len(num_cols)))\n",
    "\n",
    "for idx, col in enumerate(num_cols):\n",
    "    sns.boxplot(x=df[col], ax=axs[idx]).set(title=f'Boxplot of {col}')\n",
    "    \n",
    "plt.tight_layout()\n",
    "plt.show()"
   ]
  },
  {
   "cell_type": "markdown",
   "metadata": {},
   "source": [
    "# freq and prob distribution"
   ]
  },
  {
   "cell_type": "code",
   "execution_count": null,
   "metadata": {},
   "outputs": [],
   "source": [
    "import pandas as pd\n",
    "import matplotlib.pyplot as plt\n",
    "import seaborn as sns\n",
    "\n",
    "# Assuming df is your DataFrame\n",
    "numeric_cols = df.select_dtypes(include=[np.number]).columns.tolist()\n",
    "\n",
    "# Define the number of rows and columns you want\n",
    "n_rows = len(numeric_cols) // 2\n",
    "n_cols = 2\n",
    "\n",
    "fig, axs = plt.subplots(n_rows, n_cols, figsize=(10,15))\n",
    "\n",
    "for col, ax in zip(numeric_cols, axs.flatten()):\n",
    "    sns.histplot(data=df, x=col, kde=True, ax=ax)\n",
    "\n",
    "plt.tight_layout()\n",
    "plt.show()"
   ]
  },
  {
   "cell_type": "markdown",
   "metadata": {},
   "source": [
    "# freq distr of categorical column"
   ]
  },
  {
   "cell_type": "code",
   "execution_count": null,
   "metadata": {},
   "outputs": [],
   "source": [
    "import matplotlib.pyplot as plt\n",
    "\n",
    "categorical_cols = df.select_dtypes(include=['object', 'category']).columns\n",
    "\n",
    "fig, axs = plt.subplots(len(categorical_cols), figsize=(12,6*len(categorical_cols)))\n",
    "\n",
    "for i, col in enumerate(categorical_cols):\n",
    "    df[col].value_counts().plot(kind='barh', ax=axs[i])\n",
    "    axs[i].set_title(f'Frequency distribution for {col}')\n",
    "    \n",
    "    counts = df[col].value_counts()\n",
    "    print(f\"Most frequent category in {col} is: {counts.idxmax()} with frequency: {counts.max()}\")\n",
    "    print(f\"Least frequent category in {col} is: {counts.idxmin()} with frequency: {counts.min()}\")\n",
    "    print(f\"Median frequency in {col} is: {counts.median()}\")\n",
    "    print(\"-----------------------------\")\n",
    "\n",
    "plt.tight_layout()\n",
    "plt.show()"
   ]
  },
  {
   "cell_type": "markdown",
   "metadata": {},
   "source": [
    "# Bivariate analysis"
   ]
  },
  {
   "cell_type": "code",
   "execution_count": null,
   "metadata": {},
   "outputs": [],
   "source": [
    "df.columns"
   ]
  },
  {
   "cell_type": "code",
   "execution_count": null,
   "metadata": {},
   "outputs": [],
   "source": [
    "df['Salary'].min() "
   ]
  },
  {
   "cell_type": "code",
   "execution_count": null,
   "metadata": {},
   "outputs": [],
   "source": [
    "import seaborn as sns\n",
    "import matplotlib.pyplot as plt\n",
    "\n",
    "plt.figure(figsize=(10,6))\n",
    "# creating scatterplot\n",
    "ax = sns.regplot(x='ID', y='Salary', data=df) \n",
    "\n",
    "# setting y limit to match your given values\n",
    "ax.set_ylim(bottom=20000, top=2000000)\n",
    "\n",
    "# updating y label to reflect 'Salary in thousands'\n",
    "plt.ylabel('Salary in thousands') \n",
    "plt.title('Relationship between ID and Salary')\n",
    "plt.show()"
   ]
  },
  {
   "cell_type": "markdown",
   "metadata": {},
   "source": [
    "#### IDs range from 0 to ~1.2M, indicating a large dataset.\n",
    "#### Salary varies significantly, from near 0 to ~2M.\n",
    "#### Majority of the salaries are low to modest, with few outliers at high salary range.\n",
    "#### There's no clear pattern or correlation between ID and salary, indicating ID might not be a good predictor of salary."
   ]
  },
  {
   "cell_type": "markdown",
   "metadata": {},
   "source": [
    "## relationships bw numerical columns"
   ]
  },
  {
   "cell_type": "code",
   "execution_count": null,
   "metadata": {},
   "outputs": [],
   "source": [
    "import pandas as pd\n",
    "import seaborn as sns\n",
    "import matplotlib.pyplot as plt\n",
    "\n",
    "\n",
    "# Pair plot of multiple columns\n",
    "sns.pairplot(df[['Salary', 'Logical', 'agreeableness']])\n",
    "\n",
    "plt.show() "
   ]
  },
  {
   "cell_type": "markdown",
   "metadata": {},
   "source": [
    "#### Salary is highly right-skewed: few very high salaries.\n",
    "#### Logical scores are symmetrically, normally distributed around the mean.\n",
    "#### Agreeableness is slightly left-skewed: most scores are around 0.\n",
    "#### No strong linear relationships among the variables are evident in the scatter plots. Most data points cluster at lower salary rates and middle scores for Logical and Agreeableness. Little to no correlation between Logical and Agreeableness scores is visible."
   ]
  },
  {
   "cell_type": "markdown",
   "metadata": {},
   "source": [
    "## patterns bw category and numerical"
   ]
  },
  {
   "cell_type": "code",
   "execution_count": null,
   "metadata": {},
   "outputs": [],
   "source": [
    "# Let's say df is your DataFrame and 'NumericalColumn' is the numerical column you are looking at\n",
    "\n",
    "Q1 = df['Salary'].quantile(0.25)\n",
    "Q3 = df['Salary'].quantile(0.75)\n",
    "IQR = Q3 - Q1\n",
    "\n",
    "filter = (df['Salary'] >= Q1 - 1.5 * IQR) & (df['Salary'] <= Q3 + 1.5 * IQR)\n",
    "df_clean = df.loc[filter]"
   ]
  },
  {
   "cell_type": "code",
   "execution_count": null,
   "metadata": {},
   "outputs": [],
   "source": [
    "df_clean"
   ]
  },
  {
   "cell_type": "code",
   "execution_count": null,
   "metadata": {},
   "outputs": [],
   "source": [
    "Q1 = df['JobCity'].quantile(0.25)\n",
    "Q3 = df['JobCity'].quantile(0.75)\n",
    "IQR = Q3 - Q1\n",
    "\n",
    "outliers = df[(df['JobCity'] < Q1 - 1.5*IQR) | (df['JobCity'] > Q3 + 1.5*IQR)]\n",
    "df_no_outliers = df[(df['JobCity'] >= Q1 - 1.5*IQR) & (df['JobCity'] <= Q3 + 1.5*IQR)]"
   ]
  },
  {
   "cell_type": "code",
   "execution_count": null,
   "metadata": {},
   "outputs": [],
   "source": [
    "import seaborn as sns\n",
    "import matplotlib.pyplot as plt\n",
    "\n",
    "# Boxplot\n",
    "sns.barplot(x='Gender', y='Salary', data=df_clean)\n",
    "plt.show()\n"
   ]
  },
  {
   "cell_type": "markdown",
   "metadata": {},
   "source": [
    "### Both genders earn high salaries over 2#00,000.\n",
    "### Salaries are similar, with females' slightly lower."
   ]
  },
  {
   "cell_type": "markdown",
   "metadata": {},
   "source": [
    "## relation bw categorical and categorical "
   ]
  },
  {
   "cell_type": "code",
   "execution_count": null,
   "metadata": {},
   "outputs": [],
   "source": [
    "df_clean"
   ]
  },
  {
   "cell_type": "code",
   "execution_count": null,
   "metadata": {},
   "outputs": [],
   "source": [
    "import pandas as pd\n",
    "pd.set_option('display.max_columns',None)\n",
    "df_clean[['JobCity','Gender']].iloc[90:100]"
   ]
  },
  {
   "cell_type": "code",
   "execution_count": null,
   "metadata": {},
   "outputs": [],
   "source": [
    "threshold = 10\n",
    "\n",
    "# Create a mask for cities with frequency above the threshold\n",
    "mask = df_clean['JobCity'].map(df_clean['JobCity'].value_counts()) > threshold\n",
    "df_clean_filtered = df_clean[mask]\n",
    "\n",
    "# Now, plot your data \n",
    "plt.figure(figsize=(8,6))\n",
    "sns.boxplot(x='Gender',y='JobCity',data=df_clean_filtered)"
   ]
  },
  {
   "cell_type": "markdown",
   "metadata": {},
   "source": [
    "# Observations\n",
    "## 1. The median of the 'JobCity' for 'Male' is higher than 'Female' indicating a higher central tendency.\n",
    "## 2. There is a large variability in 'JobCity' for both 'Male' and 'Female' as indicated by the interquartile range (from Q1 to Q3)\n",
    "## 3. There are several outliers present in the 'JobCity' data for 'Male' and very few for 'Female'.\n",
    "## Note: Replace these with actual observations after viewing your specific plot."
   ]
  },
  {
   "cell_type": "markdown",
   "metadata": {},
   "source": [
    "# step-5"
   ]
  },
  {
   "cell_type": "code",
   "execution_count": null,
   "metadata": {},
   "outputs": [],
   "source": [
    "df"
   ]
  },
  {
   "cell_type": "code",
   "execution_count": null,
   "metadata": {},
   "outputs": [],
   "source": [
    "import pandas as pd\n",
    "\n",
    "# Create a list of relevant positions as mentioned in the article\n",
    "relevant_jobs = ['programmer analyst',\"software engineer\", \"hardware engineer\", \"associate engineer\"]\n",
    "\n",
    "# Filter DataFrame for relevant jobs and fresh graduates\n",
    "filtered_df = df[(df['Designation'].isin(relevant_jobs)) & (df_clean['DOJ'].dt.year > 2012)]\n",
    "\n",
    "\n",
    "# Check the average salary\n",
    "average_salary = filtered_df['Salary'].mean()\n",
    "\n",
    "# Print whether the claim is correct or not\n",
    "if 250000 <= average_salary <= 300000:\n",
    "    print(\"The claim is correct.\")\n",
    "else:\n",
    "    print(\"The claim is incorrect.\")"
   ]
  },
  {
   "cell_type": "markdown",
   "metadata": {},
   "source": [
    "# relation bw gender and specialisation"
   ]
  },
  {
   "cell_type": "code",
   "execution_count": null,
   "metadata": {},
   "outputs": [],
   "source": [
    "import pandas as pd\n",
    "from scipy.stats import chi2_contingency\n",
    "\n",
    "# Assuming df is your DataFrame and \"Gender\" and \"Designation\" are your columns of interest\n",
    "observed = pd.crosstab(df['Gender'], df['Designation'])\n",
    "\n",
    "chi2, p, dof, expected = chi2_contingency(observed.values)\n",
    "\n",
    "if p < 0.05:\n",
    "    print(\"There is a relationship between Gender and Designation\")\n",
    "else:\n",
    "    print(\"There is no relationship between Gender and Designation\")"
   ]
  }
 ],
 "metadata": {
  "kernelspec": {
   "display_name": "Python 3",
   "language": "python",
   "name": "python3"
  },
  "language_info": {
   "codemirror_mode": {
    "name": "ipython",
    "version": 3
   },
   "file_extension": ".py",
   "mimetype": "text/x-python",
   "name": "python",
   "nbconvert_exporter": "python",
   "pygments_lexer": "ipython3",
   "version": "3.12.0"
  }
 },
 "nbformat": 4,
 "nbformat_minor": 2
}
